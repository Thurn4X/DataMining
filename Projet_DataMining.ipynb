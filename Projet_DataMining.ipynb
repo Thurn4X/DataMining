{
 "cells": [
  {
   "cell_type": "code",
   "execution_count": 1,
   "id": "initial_id",
   "metadata": {
    "collapsed": true,
    "ExecuteTime": {
     "end_time": "2024-03-18T07:54:45.161185Z",
     "start_time": "2024-03-18T07:54:44.925185Z"
    }
   },
   "outputs": [
    {
     "ename": "ModuleNotFoundError",
     "evalue": "No module named 'gdown'",
     "output_type": "error",
     "traceback": [
      "\u001B[1;31m---------------------------------------------------------------------------\u001B[0m",
      "\u001B[1;31mModuleNotFoundError\u001B[0m                       Traceback (most recent call last)",
      "Cell \u001B[1;32mIn[1], line 3\u001B[0m\n\u001B[0;32m      1\u001B[0m \u001B[38;5;28;01mimport\u001B[39;00m \u001B[38;5;21;01mos\u001B[39;00m\n\u001B[0;32m      2\u001B[0m \u001B[38;5;28;01mimport\u001B[39;00m \u001B[38;5;21;01mzipfile\u001B[39;00m\n\u001B[1;32m----> 3\u001B[0m \u001B[38;5;28;01mimport\u001B[39;00m \u001B[38;5;21;01mgdown\u001B[39;00m\n\u001B[0;32m      5\u001B[0m \u001B[38;5;28;01mdef\u001B[39;00m \u001B[38;5;21macquire\u001B[39m():\n\u001B[0;32m      6\u001B[0m     \u001B[38;5;66;03m# URL de téléchargement direct Google Drive\u001B[39;00m\n\u001B[0;32m      7\u001B[0m     \u001B[38;5;66;03m# pour le gros dataset non tagged\u001B[39;00m\n\u001B[0;32m      8\u001B[0m     url \u001B[38;5;241m=\u001B[39m \u001B[38;5;124m'\u001B[39m\u001B[38;5;124mhttps://drive.google.com/uc?id=16rYRrxUXpGyPWVq5uhgYzNlZd6hsGX7-\u001B[39m\u001B[38;5;124m'\u001B[39m\n",
      "\u001B[1;31mModuleNotFoundError\u001B[0m: No module named 'gdown'"
     ]
    }
   ],
   "source": [
    "import os\n",
    "import zipfile\n",
    "import gdown\n",
    "\n",
    "def acquire():\n",
    "    # URL de téléchargement direct Google Drive\n",
    "    # pour le gros dataset non tagged\n",
    "    url = 'https://drive.google.com/uc?id=16rYRrxUXpGyPWVq5uhgYzNlZd6hsGX7-'\n",
    "    # pour le petit dataset pokemon\n",
    "    # url = 'https://drive.google.com/uc?id=1yfy6XXv0VikxR8xTuz-xQts_MmGWRDUy'\n",
    "    # Chemin de destination\n",
    "    output = 'dataset.zip'\n",
    "\n",
    "    # Télécharge le fichier depuis l'URL\n",
    "    gdown.download(url, output, quiet=False)\n",
    "\n",
    "    # Décompresse le fichier dans le dossier 'img'\n",
    "\n",
    "    with zipfile.ZipFile(output, 'r') as zip_ref:\n",
    "        zip_ref.extractall('images')\n",
    "    # Supprime le fichier zip si désiré\n",
    "    os.remove(output)"
   ]
  },
  {
   "cell_type": "code",
   "outputs": [],
   "source": [
    "    def update_image(self):\n",
    "        image_path = self.image_folder / self.image_files[self.current_image_index]\n",
    "        pixmap = QPixmap(str(image_path))\n",
    "        self.img_label.setPixmap(pixmap)\n",
    "\n",
    "    def save_tag(self):\n",
    "        tag = self.tag_entry.text().strip()\n",
    "        if tag:\n",
    "            image_name = self.image_files[self.current_image_index]\n",
    "            for entry in self.metadata:\n",
    "                image_key = next(\n",
    "                    (key for key in entry.keys() if isinstance(entry[key], str) and entry[key].endswith(image_name)),\n",
    "                    None)\n",
    "                if image_key:\n",
    "                    if \"tags\" not in entry:\n",
    "                        entry[\"tags\"] = []\n",
    "                    entry[\"tags\"].append(tag)\n",
    "                    break\n",
    "            else:\n",
    "                self.metadata.append({image_name: image_name, \"tags\": [tag]})\n",
    "            self.save_metadata()\n",
    "            self.tag_entry.clear()\n",
    "\n",
    "    def next_image(self):\n",
    "        self.current_image_index = (self.current_image_index + 1) % len(self.image_files)\n",
    "        self.update_image()\n",
    "\n",
    "    def prev_image(self):\n",
    "        self.current_image_index = (self.current_image_index - 1) % len(self.image_files)\n",
    "        self.update_image()"
   ],
   "metadata": {
    "collapsed": false
   },
   "id": "5ea04653db415139"
  }
 ],
 "metadata": {
  "kernelspec": {
   "display_name": "Python 3",
   "language": "python",
   "name": "python3"
  },
  "language_info": {
   "codemirror_mode": {
    "name": "ipython",
    "version": 2
   },
   "file_extension": ".py",
   "mimetype": "text/x-python",
   "name": "python",
   "nbconvert_exporter": "python",
   "pygments_lexer": "ipython2",
   "version": "2.7.6"
  }
 },
 "nbformat": 4,
 "nbformat_minor": 5
}
