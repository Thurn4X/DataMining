{
 "cells": [
  {
   "cell_type": "code",
   "outputs": [],
   "source": [
    "!pip install gdown"
   ],
   "metadata": {
    "collapsed": false
   },
   "id": "99853a304163fca",
   "execution_count": null
  },
  {
   "cell_type": "code",
   "execution_count": null,
   "id": "initial_id",
   "metadata": {
    "collapsed": true
   },
   "outputs": [],
   "source": [
    "import os\n",
    "import zipfile\n",
    "import gdown\n",
    "\n",
    "def acquire():\n",
    "    # URL de téléchargement direct Google Drive\n",
    "    # pour le gros dataset non tagged\n",
    "    url = 'https://drive.google.com/uc?id=16rYRrxUXpGyPWVq5uhgYzNlZd6hsGX7-'\n",
    "    # pour le petit dataset pokemon\n",
    "    # url = 'https://drive.google.com/uc?id=1yfy6XXv0VikxR8xTuz-xQts_MmGWRDUy'\n",
    "    # Chemin de destination\n",
    "    output = 'dataset.zip'\n",
    "\n",
    "    # Télécharge le fichier depuis l'URL\n",
    "    gdown.download(url, output, quiet=False)\n",
    "\n",
    "    # Décompresse le fichier dans le dossier 'img'\n",
    "\n",
    "    with zipfile.ZipFile(output, 'r') as zip_ref:\n",
    "        zip_ref.extractall('images')\n",
    "    # Supprime le fichier zip si désiré\n",
    "    os.remove(output)\n",
    "\n",
    "acquire()"
   ]
  },
  {
   "cell_type": "code",
   "outputs": [],
   "source": [
    "def save_tag(self):\n",
    "    tag = self.tag_entry.text().strip()\n",
    "    if tag:\n",
    "        image_name = self.image_files[self.current_image_index]\n",
    "        for entry in self.metadata:\n",
    "            image_key = next(\n",
    "                (key for key in entry.keys() if isinstance(entry[key], str) and entry[key].endswith(image_name)),\n",
    "                None)\n",
    "            if image_key:\n",
    "                if \"tags\" not in entry:\n",
    "                    entry[\"tags\"] = []\n",
    "                entry[\"tags\"].append(tag)\n",
    "                break\n",
    "        else:\n",
    "            self.metadata.append({image_name: image_name, \"tags\": [tag]})\n",
    "        self.save_metadata()\n",
    "        self.tag_entry.clear()"
   ],
   "metadata": {
    "collapsed": false
   },
   "id": "c2051b7444dd34e5",
   "execution_count": null
  },
  {
   "cell_type": "code",
   "outputs": [],
   "source": [
    "def next_image(self):\n",
    "    self.current_image_index = (self.current_image_index + 1) % len(self.image_files)\n",
    "    self.update_image()\n",
    "def prev_image(self):\n",
    "    self.current_image_index = (self.current_image_index - 1) % len(self.image_files)\n",
    "    self.update_image()"
   ],
   "metadata": {
    "collapsed": false
   },
   "id": "f5bf1477b70d2903"
  },
  {
   "cell_type": "code",
   "outputs": [],
   "source": [],
   "metadata": {
    "collapsed": false
   },
   "id": "f7ff5b35eac6bfcd"
  }
 ],
 "metadata": {
  "kernelspec": {
   "display_name": "Python 3",
   "language": "python",
   "name": "python3"
  },
  "language_info": {
   "codemirror_mode": {
    "name": "ipython",
    "version": 2
   },
   "file_extension": ".py",
   "mimetype": "text/x-python",
   "name": "python",
   "nbconvert_exporter": "python",
   "pygments_lexer": "ipython2",
   "version": "2.7.6"
  }
 },
 "nbformat": 4,
 "nbformat_minor": 5
}
